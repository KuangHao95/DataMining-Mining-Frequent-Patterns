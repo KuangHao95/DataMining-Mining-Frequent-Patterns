{
 "cells": [
  {
   "cell_type": "markdown",
   "metadata": {},
   "source": [
    "# Assignment 2 - Mining Frequent Pattern and Asssociation Rules"
   ]
  },
  {
   "cell_type": "markdown",
   "metadata": {},
   "source": [
    "**Import all libraries and load data here**"
   ]
  },
  {
   "cell_type": "code",
   "execution_count": 91,
   "metadata": {},
   "outputs": [
    {
     "name": "stdout",
     "output_type": "stream",
     "text": [
      "Missing values count: \n",
      "InvoiceNo           0\n",
      "StockCode           0\n",
      "Description      1454\n",
      "Quantity            0\n",
      "InvoiceDate         0\n",
      "UnitPrice           0\n",
      "CustomerID     135080\n",
      "dtype: int64\n",
      "\n",
      "Negative Unitprice: 2517\n",
      "\n",
      "Wrong Stockcodes: 2995\n"
     ]
    }
   ],
   "source": [
    "# This is a code cell\n",
    "# -- Import all libraries and load data in this cell --\n",
    "\n",
    "# data manipulation\n",
    "import pandas as pd\n",
    "\n",
    "# data visualization\n",
    "import matplotlib.pyplot as plt\n",
    "\n",
    "# record elapsed time\n",
    "import time\n",
    "\n",
    "# save text\n",
    "import numpy as np\n",
    "\n",
    "# association rule mining\n",
    "from mlxtend.frequent_patterns import apriori as mlx_apriori\n",
    "from efficient_apriori import apriori as eff_apriori\n",
    "\n",
    "# ignore warnings\n",
    "import warnings\n",
    "warnings.filterwarnings('ignore')\n",
    "\n",
    "# Read \"record.csv\" as pandas DataFrame\n",
    "df = pd.read_csv(\"record.csv\")\n",
    "\n",
    "# Print types of dirty records\n",
    "print(\"Missing values count: \")\n",
    "print(df.isnull().sum())\n",
    "print(\"\\nNegative Unitprice: %d\"%(df.UnitPrice.loc[df.UnitPrice <= 0].count()))\n",
    "print(\"\\nWrong Stockcodes: %d\"%(df.StockCode.str.match(\"[^0-9]\").sum()))"
   ]
  },
  {
   "cell_type": "markdown",
   "metadata": {},
   "source": [
    "## Section 1 - Data Cleaning and Exploration (20 points)"
   ]
  },
  {
   "cell_type": "markdown",
   "metadata": {},
   "source": [
    "<span style=\"color:blue\"> Please provide a description of each of the types of “dirty” records that you can find in the dataset, as well as the corresponding number of such records that are to be removed the dataset. Also, write down your code for removing those records. </span>"
   ]
  },
  {
   "cell_type": "markdown",
   "metadata": {},
   "source": [
    ">**\"Dirty\" Records:** (There exists intersection parts of three types)<br>\n",
    "-  Missing values: Description=1454, CustomerID=135080; <br>\n",
    "-  Negative unitprices: 2517;<br>\n",
    "-  Wrong StockCode (like \"BANK CHARGES\"): 2995."
   ]
  },
  {
   "cell_type": "code",
   "execution_count": 92,
   "metadata": {},
   "outputs": [
    {
     "name": "stdout",
     "output_type": "stream",
     "text": [
      "\n",
      "1-2.Starting date: 2010-12-01 08:26:00; Ending date: 2011-12-09 12:50:00\n",
      "3.Number of customers: 4362\n",
      "4.Number of transactions: 21785\n",
      "5.Number of items: 3676\n",
      "6.Number of transactions customer ID 17850 has made: 35\n",
      "7.Which customer (ID) has made the most transactions: ID 14911\n",
      "8.What is the item ID of the best-seller: ID 84077\n"
     ]
    }
   ],
   "source": [
    "# This is a code cell\n",
    "# -- Your code for removing dirty records goes here --\n",
    "\n",
    "# 1. Drop missing values\n",
    "df.dropna(inplace=True)\n",
    "\n",
    "# 2. Drop negative Unitprice\n",
    "# Note that quantity can be negative because there are return services, i.e. StockCode 23843 has two transactions \n",
    "# with quantity of 80885 and -80885, so eventually not even one item-23843 is given out in the two transactions.\n",
    "df = df[(df['UnitPrice']>0)]\n",
    "\n",
    "# 3. Drop wrong stockcode like \"BANK CHARGES\"\n",
    "df = df.loc[df.StockCode.str.match(\"^[0-9]\")]\n",
    "\n",
    "print(\"\\n1-2.Starting date: {}; Ending date: {}\".format(df.InvoiceDate.min(), df.InvoiceDate.max()))\n",
    "print(\"3.Number of customers: %d\"%(df.CustomerID.nunique()))\n",
    "print(\"4.Number of transactions: %d\"%(df.InvoiceNo.nunique()))\n",
    "print(\"5.Number of items: %d\"%(df.StockCode.nunique()))\n",
    "\n",
    "# df_1 contains only CustomerID and unique InvoiceNo\n",
    "df_1 = df[['CustomerID','InvoiceNo']]\n",
    "df_1.drop_duplicates('InvoiceNo', keep='first', inplace=True)\n",
    "series = df_1['CustomerID'].value_counts()\n",
    "print(\"6.Number of transactions customer ID 17850 has made: %d\"%(series[series.index  == 17850.0].data[0]))\n",
    "print(\"7.Which customer (ID) has made the most transactions: ID %d\"%(series.index[0]))\n",
    "\n",
    "# df_2 contains only StockCode and Quantity\n",
    "df_2 = df[['StockCode','Quantity']]\n",
    "df_2 = df_2.groupby(['StockCode'], as_index=False)['Quantity'].sum()\n",
    "print(\"8.What is the item ID of the best-seller: ID {}\".format(df_2.StockCode[df_2.Quantity == df_2.Quantity.max()].tolist()[0]))\n"
   ]
  },
  {
   "cell_type": "markdown",
   "metadata": {},
   "source": [
    "<span style=\"color:blue\"> 1)~8) Please provide the answers to the questions listed in the table. </span>"
   ]
  },
  {
   "cell_type": "markdown",
   "metadata": {},
   "source": [
    "This is a markdown cell. Please fill in your answer for (1)~(8).\n",
    "\n",
    "| No. | Question                                                                                                   | Answer       |\n",
    "|-----|------------------------------------------------------------------------------------------------------------|--------------|\n",
    "| 1)  | Starting date of the dataset?                                                                              | _2010-12-01_ |\n",
    "| 2)  | Ending date of the dataset?                                                                                | _2011-12-09_ |\n",
    "| 3)  | Number of customers?                                                                                       | _4362_ |\n",
    "| 4)  | Number of transactions?                                                                                    | _21785_ |\n",
    "| 5)  | Number of different kind of items?                                                                         | _3676_ |\n",
    "| 6)  | Number of transactions customer ID 17850 has made?                                                         | 35 |\n",
    "| 7)  | Which customer (ID) has made the most transactions?                                                        | _14911_ |\n",
    "| 8)  | What is the item ID of the best-seller? We define \"best-seller\" as the item with the highest sales volume. | _84077_ |"
   ]
  },
  {
   "cell_type": "markdown",
   "metadata": {},
   "source": [
    "<span style=\"color:blue\"> 9) Next, let us get some general understanding about the transactions.  Please make a histogram of the number of unique items per transaction and describe one insight that you can observe from the plot, and explain why you find it interesting.  </span>"
   ]
  },
  {
   "cell_type": "code",
   "execution_count": 134,
   "metadata": {},
   "outputs": [
    {
     "data": {
      "image/png": "[encoded data removed]",
      "text/plain": [
       "<Figure size 432x288 with 1 Axes>"
      ]
     },
     "metadata": {
      "needs_background": "light"
     },
     "output_type": "display_data"
    }
   ],
   "source": [
    "# This is a code cell\n",
    "# --- Your code for generating the histogram goes here ---\n",
    "\n",
    "df_3 = df[['InvoiceNo','StockCode',]].drop_duplicates(subset=[\"StockCode\"]).groupby([\"InvoiceNo\"]).agg(\"count\")\n",
    "df_3.plot.hist(grid=False, bins=100, rwidth=.8, facecolor='g', alpha=0.75)\n",
    "plt.title('Number of unique items per transaction')\n",
    "plt.xlabel('Number of unique items')\n",
    "plt.ylabel('Counts')\n",
    "plt.grid(axis='y', alpha=1)"
   ]
  },
  {
   "cell_type": "markdown",
   "metadata": {},
   "source": [
    ">**Insights and reasons for (9):**\n",
    "<br>There are more smaller number of unique items, mostly under 10. In another word, the majority of transactions happen when clients buy less than 10 kinds of items. \n",
    " - I assume that's because there are more smaller transactions where clients only buy one or two books. This finding is interesting because it may help distinguish types of transactions"
   ]
  },
  {
   "cell_type": "markdown",
   "metadata": {},
   "source": [
    "<span style=\"color:blue\"> 10) We can also explore the data based on the items.  Let us make a bar plot of the items with support higher than 0.5%. Please describe one insight that you can observe from the plot, and explain how it can be related to rule mining. </span>"
   ]
  },
  {
   "cell_type": "code",
   "execution_count": 139,
   "metadata": {},
   "outputs": [
    {
     "data": {
      "text/plain": [
       "<matplotlib.axes._subplots.AxesSubplot at 0x122c9d320>"
      ]
     },
     "execution_count": 139,
     "metadata": {},
     "output_type": "execute_result"
    },
    {
     "data": {
      "image/png": "[encoded data removed]",
      "text/plain": [
       "<Figure size 432x288 with 1 Axes>"
      ]
     },
     "metadata": {
      "needs_background": "light"
     },
     "output_type": "display_data"
    }
   ],
   "source": [
    "# This is a code cell\n",
    "# --- Your code for generating the bar plot goes here ---\n",
    "\n",
    "df_4 = df[[\"InvoiceNo\",\"Description\",\"Quantity\"]]\n",
    "\n",
    "basket = (df_4.groupby([\"InvoiceNo\",\"Description\"])[\"Quantity\"].sum() \\\n",
    "            .unstack().reset_index().fillna(0).set_index(\"InvoiceNo\")) \\\n",
    "            .applymap(lambda x: 0 if x <= 0 else 1)\n",
    "\n",
    "# Construct frequent itemset\n",
    "freq_set = mlx_apriori(basket, min_support=0.05, use_colnames=True)\n",
    "freq_set = freq_set.sort_values([\"support\"],ascending=True)\n",
    "freq_set.plot.barh(x = 'itemsets',y = 'support')"
   ]
  },
  {
   "cell_type": "markdown",
   "metadata": {},
   "source": [
    ">**Insights and reasons for (10)**:<br>\n",
    "The item with highest support is \"*White hanging heart t-light holder*\". And all items have only one itemset. From the bar plot we can examine that support of itemsets with only one item is higher than(if not equal to) itemsets with more items."
   ]
  },
  {
   "cell_type": "markdown",
   "metadata": {},
   "source": [
    "<span style=\"color:blue\"> 11) Compare the “best-seller” that you have previously found in (8) and the item with the highest support that you have just found in (10). Which item do you think is more popular? Here we define the “popular” items as items that are bought by many customers. Explain you answer and describe any assumptions you’ve made. </span>"
   ]
  },
  {
   "cell_type": "markdown",
   "metadata": {},
   "source": [
    ">**Answer and explanations to (11):**<br>\n",
    "The item found in (10) is more popular. \n",
    "- Because the item in (8) has highest sales volume, but here \"popular\" is defined by customer counts, which makes item in (10) more \"popular\"."
   ]
  },
  {
   "cell_type": "markdown",
   "metadata": {},
   "source": [
    "## Section 2 - Mining Association Rules"
   ]
  },
  {
   "cell_type": "markdown",
   "metadata": {},
   "source": [
    "<span style=\"color:blue\"> 1) Will we complete the counting before the sun burns out (the sun has another $ 5 \\times 10^9 < 2^{33} $ years to burn)? </span>"
   ]
  },
  {
   "cell_type": "code",
   "execution_count": 111,
   "metadata": {},
   "outputs": [
    {
     "data": {
      "text/plain": [
       "True"
      ]
     },
     "execution_count": 111,
     "metadata": {},
     "output_type": "execute_result"
    }
   ],
   "source": [
    "pow(3,3676)-pow(2,2677)+1 > pow(2,33)*365*24*3600*pow(2,36)"
   ]
  },
  {
   "cell_type": "markdown",
   "metadata": {},
   "source": [
    ">**Answer and reasons for (1):**<br>\n",
    "- Number of unique items = 3676<br>\n",
    "Counts of brute-force method = 3^3676 - 2^(3676+1) + 1 > 365 \\* 24 \\* 3600 \\* 2^33 \\* 2^36<br>\n",
    "Therefore, we will not complete counting before the sun burns out."
   ]
  },
  {
   "cell_type": "markdown",
   "metadata": {},
   "source": [
    "<span style=\"color:blue\"> 2) Run efficient-apriori in python with min_support=0.5%, min_confidence=20%, max_length=4. Write down the rule with the highest lift (denoted as $r_1$). </span>"
   ]
  },
  {
   "cell_type": "code",
   "execution_count": 123,
   "metadata": {},
   "outputs": [
    {
     "name": "stdout",
     "output_type": "stream",
     "text": [
      "Time:  1033.3675129413605 seconds\n"
     ]
    }
   ],
   "source": [
    "# This is a code cell\n",
    "# --- Your code for apriori algorithm goes here ---\n",
    "\n",
    "df_5 = df[[\"InvoiceNo\",\"Description\"]]\n",
    "basket_set = df_5.groupby(\"InvoiceNo\").Description.apply(tuple).tolist()\n",
    "start = time.time()\n",
    "itemsets_1, rules_1 = eff_apriori(basket_set, min_support=0.005, min_confidence = 0.2, max_length = 4)\n",
    "count_time = time.time() - start\n",
    "print('Time: ', count_time, 'seconds')"
   ]
  },
  {
   "cell_type": "code",
   "execution_count": 153,
   "metadata": {},
   "outputs": [
    {
     "name": "stdout",
     "output_type": "stream",
     "text": [
      "{DOLLY GIRL CHILDRENS CUP} -> {DOLLY GIRL CHILDRENS BOWL} (conf: 0.810, supp: 0.005, lift: 121.624, conv: 5.215) {DOLLY GIRL CHILDRENS BOWL} -> {DOLLY GIRL CHILDRENS CUP} (conf: 0.821, supp: 0.005, lift: 121.624, conv: 5.539) {HERB MARKER PARSLEY, HERB MARKER THYME} -> {HERB MARKER BASIL, HERB MARKER CHIVES } (conf: 0.820, supp: 0.006, lift: 120.666, conv: 5.511) {HERB MARKER BASIL, HERB MARKER CHIVES } -> {HERB MARKER PARSLEY, HERB MARKER THYME} (conf: 0.953, supp: 0.006, lift: 120.666, conv: 20.976) {REGENCY TEA PLATE GREEN , ROSES REGENCY TEACUP AND SAUCER } -> {GREEN REGENCY TEACUP AND SAUCER, REGENCY TEA PLATE ROSES } (conf: 0.791, supp: 0.006, lift: 120.480, conv: 4.750) {GREEN REGENCY TEACUP AND SAUCER, REGENCY TEA PLATE ROSES } -> {REGENCY TEA PLATE GREEN , ROSES REGENCY TEACUP AND SAUCER } (conf: 0.846, supp: 0.006, lift: 120.480, conv: 6.454)\n"
     ]
    },
    {
     "data": {
      "text/plain": [
       "4925"
      ]
     },
     "execution_count": 153,
     "metadata": {},
     "output_type": "execute_result"
    }
   ],
   "source": [
    "print(*sorted(rules_1, key=lambda rule: -rule.lift)[0:6])\n",
    "len(rules_1)"
   ]
  },
  {
   "cell_type": "markdown",
   "metadata": {},
   "source": [
    ">**The rule you find for (2):**<br>\n",
    "Rule with highest fit:<br> \n",
    "{DOLLY GIRL CHILDRENS CUP} -> {DOLLY GIRL CHILDRENS BOWL}<br>\n",
    "{DOLLY GIRL CHILDRENS BOWL} -> {DOLLY GIRL CHILDRENS CUP}"
   ]
  },
  {
   "cell_type": "markdown",
   "metadata": {},
   "source": [
    "<span style=\"color:blue\"> 3) Run efficient-apriori in python with min_support=1%, min_confidence=20%, max_length=4. Write down the rule with the highest lift (denoted as $r_2$). </span>"
   ]
  },
  {
   "cell_type": "code",
   "execution_count": 140,
   "metadata": {},
   "outputs": [
    {
     "name": "stdout",
     "output_type": "stream",
     "text": [
      "Time:  274.4368782043457 seconds\n"
     ]
    }
   ],
   "source": [
    "# This is a code cell\n",
    "# --- Your code for apriori algorithm goes here ---\n",
    "\n",
    "start = time.time()\n",
    "itemsets_2, rules_2 = eff_apriori(basket_set, min_support=0.01, min_confidence = 0.2, max_length = 4)\n",
    "count_time = time.time() - start\n",
    "print('Time: ', count_time, 'seconds')"
   ]
  },
  {
   "cell_type": "code",
   "execution_count": 154,
   "metadata": {},
   "outputs": [
    {
     "name": "stdout",
     "output_type": "stream",
     "text": [
      "{SET/6 RED SPOTTY PAPER PLATES} -> {SET/6 RED SPOTTY PAPER CUPS} (conf: 0.726, supp: 0.011, lift: 55.506, conv: 3.604) {SET/6 RED SPOTTY PAPER CUPS} -> {SET/6 RED SPOTTY PAPER PLATES} (conf: 0.828, supp: 0.011, lift: 55.506, conv: 5.730) {REGENCY TEA PLATE ROSES } -> {REGENCY TEA PLATE GREEN } (conf: 0.682, supp: 0.011, lift: 54.055, conv: 3.108) {REGENCY TEA PLATE GREEN } -> {REGENCY TEA PLATE ROSES } (conf: 0.844, supp: 0.011, lift: 54.055, conv: 6.296) {POPPY'S PLAYHOUSE KITCHEN} -> {POPPY'S PLAYHOUSE BEDROOM } (conf: 0.731, supp: 0.012, lift: 49.898, conv: 3.658) {POPPY'S PLAYHOUSE BEDROOM } -> {POPPY'S PLAYHOUSE KITCHEN} (conf: 0.799, supp: 0.012, lift: 49.898, conv: 4.905)\n"
     ]
    },
    {
     "data": {
      "text/plain": [
       "525"
      ]
     },
     "execution_count": 154,
     "metadata": {},
     "output_type": "execute_result"
    }
   ],
   "source": [
    "print(*sorted(rules_2, key=lambda rule: -rule.lift)[0:6])\n",
    "len(rules_2)"
   ]
  },
  {
   "cell_type": "markdown",
   "metadata": {},
   "source": [
    ">**The rule you find for (3):**<br>\n",
    "Rule with highest fit:<br> \n",
    "{SET/6 RED SPOTTY PAPER PLATES} -> {SET/6 RED SPOTTY PAPER CUPS}<br>\n",
    "{SET/6 RED SPOTTY PAPER CUPS} -> {SET/6 RED SPOTTY PAPER PLATES}"
   ]
  },
  {
   "cell_type": "markdown",
   "metadata": {},
   "source": [
    "<span style=\"color:blue\"> 4) Run efficient-apriori in python with min_support=0.5%, min_confidence=40%, max_length=4. Write down the rule with the highest lift (denoted as $r_3$). </span>"
   ]
  },
  {
   "cell_type": "code",
   "execution_count": 143,
   "metadata": {},
   "outputs": [
    {
     "name": "stdout",
     "output_type": "stream",
     "text": [
      "Time:  1048.9448318481445 seconds\n"
     ]
    }
   ],
   "source": [
    "# This is a code cell\n",
    "# --- Your code for apriori algorithm goes here ---\n",
    "\n",
    "start = time.time()\n",
    "itemsets_3, rules_3 = eff_apriori(basket_set, min_support=0.005, min_confidence = 0.4, max_length = 4)\n",
    "count_time = time.time() - start\n",
    "print('Time: ', count_time, 'seconds')"
   ]
  },
  {
   "cell_type": "code",
   "execution_count": 155,
   "metadata": {},
   "outputs": [
    {
     "name": "stdout",
     "output_type": "stream",
     "text": [
      "{DOLLY GIRL CHILDRENS CUP} -> {DOLLY GIRL CHILDRENS BOWL} (conf: 0.810, supp: 0.005, lift: 121.624, conv: 5.215) {DOLLY GIRL CHILDRENS BOWL} -> {DOLLY GIRL CHILDRENS CUP} (conf: 0.821, supp: 0.005, lift: 121.624, conv: 5.539) {HERB MARKER PARSLEY, HERB MARKER THYME} -> {HERB MARKER BASIL, HERB MARKER CHIVES } (conf: 0.820, supp: 0.006, lift: 120.666, conv: 5.511) {HERB MARKER BASIL, HERB MARKER CHIVES } -> {HERB MARKER PARSLEY, HERB MARKER THYME} (conf: 0.953, supp: 0.006, lift: 120.666, conv: 20.976) {REGENCY TEA PLATE GREEN , ROSES REGENCY TEACUP AND SAUCER } -> {GREEN REGENCY TEACUP AND SAUCER, REGENCY TEA PLATE ROSES } (conf: 0.791, supp: 0.006, lift: 120.480, conv: 4.750) {GREEN REGENCY TEACUP AND SAUCER, REGENCY TEA PLATE ROSES } -> {REGENCY TEA PLATE GREEN , ROSES REGENCY TEACUP AND SAUCER } (conf: 0.846, supp: 0.006, lift: 120.480, conv: 6.454)\n"
     ]
    },
    {
     "data": {
      "text/plain": [
       "2774"
      ]
     },
     "execution_count": 155,
     "metadata": {},
     "output_type": "execute_result"
    }
   ],
   "source": [
    "print(*sorted(rules_3, key=lambda rule: -rule.lift)[0:6])\n",
    "len(rules_3)"
   ]
  },
  {
   "cell_type": "markdown",
   "metadata": {},
   "source": [
    ">**The rule you find for (4):**<br>\n",
    "Rule with highest fit:<br>\n",
    "{DOLLY GIRL CHILDRENS CUP} -> {DOLLY GIRL CHILDRENS BOWL}<br>\n",
    "{DOLLY GIRL CHILDRENS BOWL} -> {DOLLY GIRL CHILDRENS CUP}"
   ]
  },
  {
   "cell_type": "markdown",
   "metadata": {},
   "source": [
    "<span style=\"color:blue\"> 5) You must have noticed numerous differences between the two runs in (2) and (3). List at least 3 differences you’ve found. You may want to consider the elapsed time and the quality of the results.  </span>"
   ]
  },
  {
   "cell_type": "markdown",
   "metadata": {},
   "source": [
    ">**The differences you find in (5):**<br>\n",
    "- elaspsed time: r1(1033s) > r2(274s);<br>\n",
    "- r1 has more itemsets records: r1(4925) > r2(525);<br>\n",
    "- r2 has higher fit than r1."
   ]
  },
  {
   "cell_type": "markdown",
   "metadata": {},
   "source": [
    "<span style=\"color:blue\"> 6) Which one in $r_1$,$r_2$, and $r_3$ do you think is better? Explain your answer. </span>"
   ]
  },
  {
   "cell_type": "markdown",
   "metadata": {},
   "source": [
    ">**Answer and reasons for (6):**<br>\n",
    "I think **r3** is the best. <br>\n",
    "- \n",
    "Though it cost more time, its lift & min_confidence are the highest. So r3 is the best of three."
   ]
  },
  {
   "cell_type": "markdown",
   "metadata": {},
   "source": [
    "<span style=\"color:blue\"> 7) From your observation, what are the effects of increasing/reducing min_support and min_confidence? Support your answer with evidence. </span>"
   ]
  },
  {
   "cell_type": "markdown",
   "metadata": {},
   "source": [
    ">**Answer and evidences for (7):**<br>\n",
    "1) The reduce of min_support (increase of min_confidence) will increase elapsed time. <br>\n",
    " **Evidence:** *r3.supp $\\approx$ r2.supp > r1.supp **==>** r3.time(1048s) > r1.time(1033) > r2.time(274s)*<br>\n",
    "2) The reduce of min_support (increase of min_confidence) will result in better performance<br>\n",
    " **Evidence:** *r3.supp $\\approx$ r2.supp > r1.supp **==>** r3.fit > r1.fit > r2.fit*<br>"
   ]
  },
  {
   "cell_type": "markdown",
   "metadata": {},
   "source": [
    "## Section 3 - Mining Sequential Rules"
   ]
  },
  {
   "cell_type": "markdown",
   "metadata": {},
   "source": [
    "<span style=\"color:blue\"> 1) Organize the dataset into sequences and fill the table below. </span>"
   ]
  },
  {
   "cell_type": "code",
   "execution_count": 105,
   "metadata": {},
   "outputs": [],
   "source": [
    "# Encode StockCode into integer 1-3676\n",
    "df_6 = df\n",
    "df_6 = df_6.assign(IntCode = lambda x: x.StockCode.astype('category').cat.codes+1)\n",
    "df_6.to_csv(\"IntStockCode.csv\")"
   ]
  },
  {
   "cell_type": "code",
   "execution_count": 113,
   "metadata": {},
   "outputs": [
    {
     "data": {
      "text/html": [
       "<div>\n",
       "<style scoped>\n",
       "    .dataframe tbody tr th:only-of-type {\n",
       "        vertical-align: middle;\n",
       "    }\n",
       "\n",
       "    .dataframe tbody tr th {\n",
       "        vertical-align: top;\n",
       "    }\n",
       "\n",
       "    .dataframe thead th {\n",
       "        text-align: right;\n",
       "    }\n",
       "</style>\n",
       "<table border=\"1\" class=\"dataframe\">\n",
       "  <thead>\n",
       "    <tr style=\"text-align: right;\">\n",
       "      <th></th>\n",
       "      <th>Unnamed: 0</th>\n",
       "      <th>CustomerID</th>\n",
       "      <th>items1</th>\n",
       "    </tr>\n",
       "  </thead>\n",
       "  <tbody>\n",
       "    <tr>\n",
       "      <th>0</th>\n",
       "      <td>1</td>\n",
       "      <td>12346</td>\n",
       "      <td>2002 -1 2002</td>\n",
       "    </tr>\n",
       "    <tr>\n",
       "      <th>1</th>\n",
       "      <td>2</td>\n",
       "      <td>12347</td>\n",
       "      <td>3248 1251 2659 1357 1625 1626 1627 1628 1629 1...</td>\n",
       "    </tr>\n",
       "    <tr>\n",
       "      <th>2</th>\n",
       "      <td>3</td>\n",
       "      <td>12348</td>\n",
       "      <td>3142 1798 3141 3141 427 427 1474 917 918 754 4...</td>\n",
       "    </tr>\n",
       "    <tr>\n",
       "      <th>3</th>\n",
       "      <td>4</td>\n",
       "      <td>12349</td>\n",
       "      <td>1948 2272 646 556 645 1033 1091 2631 3132 1683...</td>\n",
       "    </tr>\n",
       "    <tr>\n",
       "      <th>4</th>\n",
       "      <td>5</td>\n",
       "      <td>12350</td>\n",
       "      <td>876 1282 2734 2751 1228 2816 1412 1417 824 882...</td>\n",
       "    </tr>\n",
       "    <tr>\n",
       "      <th>5</th>\n",
       "      <td>6</td>\n",
       "      <td>12352</td>\n",
       "      <td>534 968 440 1504 1633 1293 1511 1024 773 774 7...</td>\n",
       "    </tr>\n",
       "    <tr>\n",
       "      <th>6</th>\n",
       "      <td>7</td>\n",
       "      <td>12353</td>\n",
       "      <td>2509 2506 1738 2510</td>\n",
       "    </tr>\n",
       "    <tr>\n",
       "      <th>7</th>\n",
       "      <td>8</td>\n",
       "      <td>12354</td>\n",
       "      <td>2036 2039 2040 2087 2088 2089 886 1689 443 314...</td>\n",
       "    </tr>\n",
       "    <tr>\n",
       "      <th>8</th>\n",
       "      <td>9</td>\n",
       "      <td>12355</td>\n",
       "      <td>1548 1916 1917 1738 1506 1293 3194 1554 1552 1...</td>\n",
       "    </tr>\n",
       "    <tr>\n",
       "      <th>9</th>\n",
       "      <td>10</td>\n",
       "      <td>12356</td>\n",
       "      <td>1040 413 362 414 439 964 966 970 1034 1033 109...</td>\n",
       "    </tr>\n",
       "  </tbody>\n",
       "</table>\n",
       "</div>"
      ],
      "text/plain": [
       "   Unnamed: 0  CustomerID                                             items1\n",
       "0           1       12346                                       2002 -1 2002\n",
       "1           2       12347  3248 1251 2659 1357 1625 1626 1627 1628 1629 1...\n",
       "2           3       12348  3142 1798 3141 3141 427 427 1474 917 918 754 4...\n",
       "3           4       12349  1948 2272 646 556 645 1033 1091 2631 3132 1683...\n",
       "4           5       12350  876 1282 2734 2751 1228 2816 1412 1417 824 882...\n",
       "5           6       12352  534 968 440 1504 1633 1293 1511 1024 773 774 7...\n",
       "6           7       12353                                2509 2506 1738 2510\n",
       "7           8       12354  2036 2039 2040 2087 2088 2089 886 1689 443 314...\n",
       "8           9       12355  1548 1916 1917 1738 1506 1293 3194 1554 1552 1...\n",
       "9          10       12356  1040 413 362 414 439 964 966 970 1034 1033 109..."
      ]
     },
     "execution_count": 113,
     "metadata": {},
     "output_type": "execute_result"
    }
   ],
   "source": [
    "# \"df2.csv\" is generated by R since it is easier to change format in R\n",
    "my_df = pd.read_csv(\"mydf.csv\")\n",
    "my_df.head(10)"
   ]
  },
  {
   "cell_type": "code",
   "execution_count": 114,
   "metadata": {},
   "outputs": [],
   "source": [
    "# Generate input file for SPMF\n",
    "SPMF_input = my_df.items1 + \" -2\"\n",
    "SPMF_input.to_csv(\"input.csv\", index=False)"
   ]
  },
  {
   "cell_type": "code",
   "execution_count": 19,
   "metadata": {},
   "outputs": [
    {
     "name": "stdout",
     "output_type": "stream",
     "text": [
      "Beginning Date of Sequence: 2011-01-18 09:50:00\n",
      "Ending Date of Sequence: 2011-11-17 08:40:00\n",
      "Number of transactions in the sequence: 3\n"
     ]
    }
   ],
   "source": [
    "# For the markdown cell below (The sequential data above does not include time and transaction counts)\n",
    "print(\"Beginning Date of Sequence:\",df[df.CustomerID == 12356].InvoiceDate.min())\n",
    "print(\"Ending Date of Sequence:\",df[df.CustomerID == 12356].InvoiceDate.max())\n",
    "print(\"Number of transactions in the sequence:\",series[series.index == 12356.0].data[0])"
   ]
  },
  {
   "cell_type": "markdown",
   "metadata": {},
   "source": [
    "This is a markdown cell. Please fill in your answer for (1).\n",
    "\n",
    "| CustomerID | Beginning Date of Sequence | Ending Date of Sequence | Number of transactions in the sequence |\n",
    "|:----------:|:--------------------------:|:-----------------------:|:--------------------------------------:|\n",
    "|    12356   |        _2011-01-18_        |       _2011-11-17_      |              3              |"
   ]
  },
  {
   "cell_type": "markdown",
   "metadata": {},
   "source": [
    "<span style=\"color:blue\"> 2) Run ERMiner with min_support=0.5%, min_confidence=60%, maximum length of antecedent and consequence being 1. Write down the rule(s) with the highest confidence. </span> You need to convert the dataset into the format that SPMF supports. Please read http://www.philippe-fournier-viger.com/spmf/ERMiner.php carefully."
   ]
  },
  {
   "cell_type": "code",
   "execution_count": 115,
   "metadata": {},
   "outputs": [
    {
     "data": {
      "text/html": [
       "<div>\n",
       "<style scoped>\n",
       "    .dataframe tbody tr th:only-of-type {\n",
       "        vertical-align: middle;\n",
       "    }\n",
       "\n",
       "    .dataframe tbody tr th {\n",
       "        vertical-align: top;\n",
       "    }\n",
       "\n",
       "    .dataframe thead th {\n",
       "        text-align: right;\n",
       "    }\n",
       "</style>\n",
       "<table border=\"1\" class=\"dataframe\">\n",
       "  <thead>\n",
       "    <tr style=\"text-align: right;\">\n",
       "      <th></th>\n",
       "      <th>First</th>\n",
       "      <th></th>\n",
       "      <th>Second</th>\n",
       "      <th>Support</th>\n",
       "      <th>a</th>\n",
       "      <th>Confidence</th>\n",
       "      <th>b</th>\n",
       "    </tr>\n",
       "  </thead>\n",
       "  <tbody>\n",
       "    <tr>\n",
       "      <th>0</th>\n",
       "      <td>1094</td>\n",
       "      <td>==&gt;</td>\n",
       "      <td>1093</td>\n",
       "      <td>#SUP:</td>\n",
       "      <td>31</td>\n",
       "      <td>#CONF:</td>\n",
       "      <td>0.720930</td>\n",
       "    </tr>\n",
       "    <tr>\n",
       "      <th>2</th>\n",
       "      <td>1699</td>\n",
       "      <td>==&gt;</td>\n",
       "      <td>1697</td>\n",
       "      <td>#SUP:</td>\n",
       "      <td>46</td>\n",
       "      <td>#CONF:</td>\n",
       "      <td>0.676471</td>\n",
       "    </tr>\n",
       "    <tr>\n",
       "      <th>1</th>\n",
       "      <td>1583</td>\n",
       "      <td>==&gt;</td>\n",
       "      <td>1581</td>\n",
       "      <td>#SUP:</td>\n",
       "      <td>105</td>\n",
       "      <td>#CONF:</td>\n",
       "      <td>0.636364</td>\n",
       "    </tr>\n",
       "    <tr>\n",
       "      <th>6</th>\n",
       "      <td>1711</td>\n",
       "      <td>==&gt;</td>\n",
       "      <td>3250</td>\n",
       "      <td>#SUP:</td>\n",
       "      <td>24</td>\n",
       "      <td>#CONF:</td>\n",
       "      <td>0.631579</td>\n",
       "    </tr>\n",
       "    <tr>\n",
       "      <th>3</th>\n",
       "      <td>1848</td>\n",
       "      <td>==&gt;</td>\n",
       "      <td>1844</td>\n",
       "      <td>#SUP:</td>\n",
       "      <td>22</td>\n",
       "      <td>#CONF:</td>\n",
       "      <td>0.628571</td>\n",
       "    </tr>\n",
       "    <tr>\n",
       "      <th>8</th>\n",
       "      <td>3267</td>\n",
       "      <td>==&gt;</td>\n",
       "      <td>173</td>\n",
       "      <td>#SUP:</td>\n",
       "      <td>22</td>\n",
       "      <td>#CONF:</td>\n",
       "      <td>0.628571</td>\n",
       "    </tr>\n",
       "    <tr>\n",
       "      <th>7</th>\n",
       "      <td>3047</td>\n",
       "      <td>==&gt;</td>\n",
       "      <td>3250</td>\n",
       "      <td>#SUP:</td>\n",
       "      <td>25</td>\n",
       "      <td>#CONF:</td>\n",
       "      <td>0.625000</td>\n",
       "    </tr>\n",
       "    <tr>\n",
       "      <th>5</th>\n",
       "      <td>1655</td>\n",
       "      <td>==&gt;</td>\n",
       "      <td>3250</td>\n",
       "      <td>#SUP:</td>\n",
       "      <td>124</td>\n",
       "      <td>#CONF:</td>\n",
       "      <td>0.620000</td>\n",
       "    </tr>\n",
       "    <tr>\n",
       "      <th>4</th>\n",
       "      <td>2790</td>\n",
       "      <td>==&gt;</td>\n",
       "      <td>394</td>\n",
       "      <td>#SUP:</td>\n",
       "      <td>39</td>\n",
       "      <td>#CONF:</td>\n",
       "      <td>0.609375</td>\n",
       "    </tr>\n",
       "  </tbody>\n",
       "</table>\n",
       "</div>"
      ],
      "text/plain": [
       "   First       Second Support    a Confidence         b\n",
       "0   1094  ==>    1093   #SUP:   31     #CONF:  0.720930\n",
       "2   1699  ==>    1697   #SUP:   46     #CONF:  0.676471\n",
       "1   1583  ==>    1581   #SUP:  105     #CONF:  0.636364\n",
       "6   1711  ==>    3250   #SUP:   24     #CONF:  0.631579\n",
       "3   1848  ==>    1844   #SUP:   22     #CONF:  0.628571\n",
       "8   3267  ==>     173   #SUP:   22     #CONF:  0.628571\n",
       "7   3047  ==>    3250   #SUP:   25     #CONF:  0.625000\n",
       "5   1655  ==>    3250   #SUP:  124     #CONF:  0.620000\n",
       "4   2790  ==>     394   #SUP:   39     #CONF:  0.609375"
      ]
     },
     "execution_count": 115,
     "metadata": {},
     "output_type": "execute_result"
    }
   ],
   "source": [
    "# Retrieved results from SPMF\n",
    "result = pd.read_csv('output.txt', sep=\" \", header=None)\n",
    "result.columns = [\"First\", \"\",\"Second\", \"Support\", \"a\",\"Confidence\",\"b\"]\n",
    "result.sort_values('b',ascending=False)"
   ]
  },
  {
   "cell_type": "code",
   "execution_count": 118,
   "metadata": {},
   "outputs": [
    {
     "name": "stdout",
     "output_type": "stream",
     "text": [
      "222    LARGE POPCORN HOLDER \n",
      "Name: Description, dtype: object\n",
      "221    SMALL POPCORN HOLDER\n",
      "Name: Description, dtype: object\n"
     ]
    }
   ],
   "source": [
    "print(df_6.loc[df_6.IntCode == 1094].head(1).Description)\n",
    "print(df_6.loc[df_6.IntCode == 1093].head(1).Description)"
   ]
  },
  {
   "cell_type": "markdown",
   "metadata": {},
   "source": [
    ">**The rule(s) you find for (2):**<br>\n",
    "- LARGE POPCORN HOLDER --> SMALL POPCORN HOLDER"
   ]
  },
  {
   "cell_type": "markdown",
   "metadata": {},
   "source": [
    "<span style=\"color:blue\"> 3) Do you think the parameters used in (2) are good in practice? If yes, explain your answer. If no, give a better set of parameters and explain why it is better. </span>"
   ]
  },
  {
   "cell_type": "code",
   "execution_count": 121,
   "metadata": {},
   "outputs": [
    {
     "data": {
      "text/html": [
       "<div>\n",
       "<style scoped>\n",
       "    .dataframe tbody tr th:only-of-type {\n",
       "        vertical-align: middle;\n",
       "    }\n",
       "\n",
       "    .dataframe tbody tr th {\n",
       "        vertical-align: top;\n",
       "    }\n",
       "\n",
       "    .dataframe thead th {\n",
       "        text-align: right;\n",
       "    }\n",
       "</style>\n",
       "<table border=\"1\" class=\"dataframe\">\n",
       "  <thead>\n",
       "    <tr style=\"text-align: right;\">\n",
       "      <th></th>\n",
       "      <th>First</th>\n",
       "      <th></th>\n",
       "      <th>Second</th>\n",
       "      <th>Support</th>\n",
       "      <th>a</th>\n",
       "      <th>Confidence</th>\n",
       "      <th>b</th>\n",
       "    </tr>\n",
       "  </thead>\n",
       "  <tbody>\n",
       "    <tr>\n",
       "      <th>28</th>\n",
       "      <td>674</td>\n",
       "      <td>==&gt;</td>\n",
       "      <td>1293</td>\n",
       "      <td>#SUP:</td>\n",
       "      <td>9</td>\n",
       "      <td>#CONF:</td>\n",
       "      <td>0.900000</td>\n",
       "    </tr>\n",
       "    <tr>\n",
       "      <th>40</th>\n",
       "      <td>2616</td>\n",
       "      <td>==&gt;</td>\n",
       "      <td>173</td>\n",
       "      <td>#SUP:</td>\n",
       "      <td>9</td>\n",
       "      <td>#CONF:</td>\n",
       "      <td>0.900000</td>\n",
       "    </tr>\n",
       "    <tr>\n",
       "      <th>41</th>\n",
       "      <td>2616</td>\n",
       "      <td>==&gt;</td>\n",
       "      <td>1258</td>\n",
       "      <td>#SUP:</td>\n",
       "      <td>9</td>\n",
       "      <td>#CONF:</td>\n",
       "      <td>0.900000</td>\n",
       "    </tr>\n",
       "    <tr>\n",
       "      <th>62</th>\n",
       "      <td>3201</td>\n",
       "      <td>==&gt;</td>\n",
       "      <td>3070</td>\n",
       "      <td>#SUP:</td>\n",
       "      <td>9</td>\n",
       "      <td>#CONF:</td>\n",
       "      <td>0.818182</td>\n",
       "    </tr>\n",
       "    <tr>\n",
       "      <th>74</th>\n",
       "      <td>577</td>\n",
       "      <td>==&gt;</td>\n",
       "      <td>3250</td>\n",
       "      <td>#SUP:</td>\n",
       "      <td>11</td>\n",
       "      <td>#CONF:</td>\n",
       "      <td>0.733333</td>\n",
       "    </tr>\n",
       "  </tbody>\n",
       "</table>\n",
       "</div>"
      ],
      "text/plain": [
       "    First       Second Support   a Confidence         b\n",
       "28    674  ==>    1293   #SUP:   9     #CONF:  0.900000\n",
       "40   2616  ==>     173   #SUP:   9     #CONF:  0.900000\n",
       "41   2616  ==>    1258   #SUP:   9     #CONF:  0.900000\n",
       "62   3201  ==>    3070   #SUP:   9     #CONF:  0.818182\n",
       "74    577  ==>    3250   #SUP:  11     #CONF:  0.733333"
      ]
     },
     "execution_count": 121,
     "metadata": {},
     "output_type": "execute_result"
    }
   ],
   "source": [
    "# Retrieved results from SPMF: min_support = 0.2%, min_confidence  = 60%\n",
    "result1 = pd.read_csv('~/Desktop/output.txt', sep=\" \", header=None)\n",
    "result1.columns = [\"First\", \"\",\"Second\", \"Support\", \"a\",\"Confidence\",\"b\"]\n",
    "result1.sort_values('b',ascending=False).head(5)"
   ]
  },
  {
   "cell_type": "markdown",
   "metadata": {},
   "source": [
    ">**Your answer for (3):**<br>\n",
    "Not good enough\n",
    "- Explain: Min support can be set lower to mine sequential rules with more significant confidence. Min support being 0.2% is legit since 0.2% is still a lot considering our large sequential data. And when I change min_support to 0.2%, I got better confidence results. "
   ]
  },
  {
   "cell_type": "markdown",
   "metadata": {},
   "source": [
    "<span style=\"color:blue\"> 4) What are the differences between sequential rules and association rules? Give 2 of them. Describe a circumstance where sequential rules apply but association rules do not. </span>"
   ]
  },
  {
   "cell_type": "markdown",
   "metadata": {},
   "source": [
    "<img src=\"http://www.philippe-fournier-viger.com/spmf/map_algorithms_spmf_data_mining097.png\">"
   ]
  },
  {
   "cell_type": "markdown",
   "metadata": {},
   "source": [
    "**Your answer for (4):**<br> \n",
    "I retrieved the above picture on SPMF website as a reference.<br>\n",
    "<div class=\"alert alert-block alert-warning\">\n",
    "<b>Difference:</b>\n",
    "- **Input data form:** <br>\n",
    " - Association: a transaction database <br>\n",
    " - Sequential: a sequence database\n",
    "- **The goal:**<br>\n",
    " - Association: to find sets of items that appear often in transactions, without considering a sequential ordering such as time<br>\n",
    " - Sequential: to discover subsequences that appear often in a set of sequences, where the sequential ordering between items is considered\n",
    "</div>\n",
    "**Circumstance:**<br>\n",
    "When there is a sequential ordering in the data, we should use sequential rule mining instead of association rules."
   ]
  }
 ],
 "metadata": {
  "kernelspec": {
   "display_name": "Python 3",
   "language": "python",
   "name": "python3"
  },
  "language_info": {
   "codemirror_mode": {
    "name": "ipython",
    "version": 3
   },
   "file_extension": ".py",
   "mimetype": "text/x-python",
   "name": "python",
   "nbconvert_exporter": "python",
   "pygments_lexer": "ipython3",
   "version": "3.7.3"
  }
 },
 "nbformat": 4,
 "nbformat_minor": 2
}
